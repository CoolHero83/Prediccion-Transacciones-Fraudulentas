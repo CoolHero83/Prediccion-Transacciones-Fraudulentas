{
  "cells": [
    {
      "cell_type": "markdown",
      "metadata": {
        "colab_type": "text",
        "id": "view-in-github"
      },
      "source": [
        "<a href=\"https://colab.research.google.com/github/CoolHero83/Prediccion-Transacciones-Fraudulentas/blob/main/NaiveBayes.ipynb\" target=\"_parent\"><img src=\"https://colab.research.google.com/assets/colab-badge.svg\" alt=\"Open In Colab\"/></a>"
      ]
    },
    {
      "cell_type": "code",
      "execution_count": 1,
      "metadata": {
        "colab": {
          "base_uri": "https://localhost:8080/"
        },
        "id": "0D4yaZgmDNvt",
        "outputId": "ee479f15-4b3d-4ae9-cd1a-69144e2fb98e"
      },
      "outputs": [
        {
          "data": {
            "text/plain": [
              "(1999889, 26)"
            ]
          },
          "execution_count": 1,
          "metadata": {},
          "output_type": "execute_result"
        }
      ],
      "source": [
        "# prompt: leer el archi csv\n",
        "\n",
        "import pandas as pd\n",
        "import pathlib\n",
        "\n",
        "RUTA = pathlib.Path(__vsc_ipynb_file__).parent.parent # type: ignore\n",
        "\n",
        "df = pd.read_csv(f\"{RUTA}/Data/Data2.csv\", encoding='latin1', sep=',', on_bad_lines='skip')\n",
        "df.shape"
      ]
    },
    {
      "cell_type": "code",
      "execution_count": 5,
      "metadata": {
        "colab": {
          "base_uri": "https://localhost:8080/",
          "height": 273
        },
        "id": "JQVtVRL5C0rf",
        "outputId": "4c96babf-7fb8-4df9-c56b-81f9652b5f63"
      },
      "outputs": [
        {
          "data": {
            "text/html": [
              "<div>\n",
              "<style scoped>\n",
              "    .dataframe tbody tr th:only-of-type {\n",
              "        vertical-align: middle;\n",
              "    }\n",
              "\n",
              "    .dataframe tbody tr th {\n",
              "        vertical-align: top;\n",
              "    }\n",
              "\n",
              "    .dataframe thead th {\n",
              "        text-align: right;\n",
              "    }\n",
              "</style>\n",
              "<table border=\"1\" class=\"dataframe\">\n",
              "  <thead>\n",
              "    <tr style=\"text-align: right;\">\n",
              "      <th></th>\n",
              "      <th>Amount</th>\n",
              "      <th>Is_Fraud</th>\n",
              "      <th>IngresoAnual</th>\n",
              "      <th>DebitoTotal</th>\n",
              "      <th>FICO_Score</th>\n",
              "      <th>Year</th>\n",
              "      <th>Month</th>\n",
              "      <th>Time</th>\n",
              "      <th>LimiteCredito</th>\n",
              "      <th>Errors_Insufficient Balance</th>\n",
              "      <th>...</th>\n",
              "      <th>Dia_Semana_MiÃ©rcoles</th>\n",
              "      <th>Dia_Semana_SÃ¡bado</th>\n",
              "      <th>Dia_Semana_Viernes</th>\n",
              "      <th>BancoCredito_Amex</th>\n",
              "      <th>BancoCredito_Discover</th>\n",
              "      <th>BancoCredito_Mastercard</th>\n",
              "      <th>BancoCredito_Visa</th>\n",
              "      <th>TipoTarjeta_Credit</th>\n",
              "      <th>TipoTarjeta_Debit</th>\n",
              "      <th>TipoTarjeta_Debit (Prepaid)</th>\n",
              "    </tr>\n",
              "  </thead>\n",
              "  <tbody>\n",
              "    <tr>\n",
              "      <th>0</th>\n",
              "      <td>0.870166</td>\n",
              "      <td>0</td>\n",
              "      <td>1.058518</td>\n",
              "      <td>-0.269604</td>\n",
              "      <td>0.217595</td>\n",
              "      <td>-4.105101</td>\n",
              "      <td>-1.592169</td>\n",
              "      <td>0.905811</td>\n",
              "      <td>1.531309</td>\n",
              "      <td>0.0</td>\n",
              "      <td>...</td>\n",
              "      <td>1.0</td>\n",
              "      <td>0.0</td>\n",
              "      <td>0.0</td>\n",
              "      <td>1.0</td>\n",
              "      <td>0.0</td>\n",
              "      <td>0.0</td>\n",
              "      <td>0.0</td>\n",
              "      <td>1.0</td>\n",
              "      <td>0.0</td>\n",
              "      <td>0.0</td>\n",
              "    </tr>\n",
              "    <tr>\n",
              "      <th>1</th>\n",
              "      <td>-1.744696</td>\n",
              "      <td>0</td>\n",
              "      <td>1.058518</td>\n",
              "      <td>-0.269604</td>\n",
              "      <td>0.217595</td>\n",
              "      <td>-4.105101</td>\n",
              "      <td>-1.592169</td>\n",
              "      <td>-1.230862</td>\n",
              "      <td>1.531309</td>\n",
              "      <td>0.0</td>\n",
              "      <td>...</td>\n",
              "      <td>0.0</td>\n",
              "      <td>0.0</td>\n",
              "      <td>0.0</td>\n",
              "      <td>1.0</td>\n",
              "      <td>0.0</td>\n",
              "      <td>0.0</td>\n",
              "      <td>0.0</td>\n",
              "      <td>1.0</td>\n",
              "      <td>0.0</td>\n",
              "      <td>0.0</td>\n",
              "    </tr>\n",
              "    <tr>\n",
              "      <th>2</th>\n",
              "      <td>1.060533</td>\n",
              "      <td>0</td>\n",
              "      <td>1.058518</td>\n",
              "      <td>-0.269604</td>\n",
              "      <td>0.217595</td>\n",
              "      <td>-4.105101</td>\n",
              "      <td>-1.592169</td>\n",
              "      <td>-0.445224</td>\n",
              "      <td>1.531309</td>\n",
              "      <td>0.0</td>\n",
              "      <td>...</td>\n",
              "      <td>0.0</td>\n",
              "      <td>0.0</td>\n",
              "      <td>0.0</td>\n",
              "      <td>1.0</td>\n",
              "      <td>0.0</td>\n",
              "      <td>0.0</td>\n",
              "      <td>0.0</td>\n",
              "      <td>1.0</td>\n",
              "      <td>0.0</td>\n",
              "      <td>0.0</td>\n",
              "    </tr>\n",
              "    <tr>\n",
              "      <th>3</th>\n",
              "      <td>0.139404</td>\n",
              "      <td>0</td>\n",
              "      <td>1.058518</td>\n",
              "      <td>-0.269604</td>\n",
              "      <td>0.217595</td>\n",
              "      <td>-4.105101</td>\n",
              "      <td>-1.304044</td>\n",
              "      <td>-1.142108</td>\n",
              "      <td>1.531309</td>\n",
              "      <td>0.0</td>\n",
              "      <td>...</td>\n",
              "      <td>0.0</td>\n",
              "      <td>0.0</td>\n",
              "      <td>0.0</td>\n",
              "      <td>1.0</td>\n",
              "      <td>0.0</td>\n",
              "      <td>0.0</td>\n",
              "      <td>0.0</td>\n",
              "      <td>1.0</td>\n",
              "      <td>0.0</td>\n",
              "      <td>0.0</td>\n",
              "    </tr>\n",
              "    <tr>\n",
              "      <th>4</th>\n",
              "      <td>-0.390713</td>\n",
              "      <td>0</td>\n",
              "      <td>1.058518</td>\n",
              "      <td>-0.269604</td>\n",
              "      <td>0.217595</td>\n",
              "      <td>-4.105101</td>\n",
              "      <td>-1.304044</td>\n",
              "      <td>-0.326885</td>\n",
              "      <td>1.531309</td>\n",
              "      <td>0.0</td>\n",
              "      <td>...</td>\n",
              "      <td>0.0</td>\n",
              "      <td>0.0</td>\n",
              "      <td>0.0</td>\n",
              "      <td>1.0</td>\n",
              "      <td>0.0</td>\n",
              "      <td>0.0</td>\n",
              "      <td>0.0</td>\n",
              "      <td>1.0</td>\n",
              "      <td>0.0</td>\n",
              "      <td>0.0</td>\n",
              "    </tr>\n",
              "  </tbody>\n",
              "</table>\n",
              "<p>5 rows × 26 columns</p>\n",
              "</div>"
            ],
            "text/plain": [
              "     Amount  Is_Fraud  IngresoAnual  DebitoTotal  FICO_Score      Year  \\\n",
              "0  0.870166         0      1.058518    -0.269604    0.217595 -4.105101   \n",
              "1 -1.744696         0      1.058518    -0.269604    0.217595 -4.105101   \n",
              "2  1.060533         0      1.058518    -0.269604    0.217595 -4.105101   \n",
              "3  0.139404         0      1.058518    -0.269604    0.217595 -4.105101   \n",
              "4 -0.390713         0      1.058518    -0.269604    0.217595 -4.105101   \n",
              "\n",
              "      Month      Time  LimiteCredito  Errors_Insufficient Balance  ...  \\\n",
              "0 -1.592169  0.905811       1.531309                          0.0  ...   \n",
              "1 -1.592169 -1.230862       1.531309                          0.0  ...   \n",
              "2 -1.592169 -0.445224       1.531309                          0.0  ...   \n",
              "3 -1.304044 -1.142108       1.531309                          0.0  ...   \n",
              "4 -1.304044 -0.326885       1.531309                          0.0  ...   \n",
              "\n",
              "   Dia_Semana_MiÃ©rcoles  Dia_Semana_SÃ¡bado  Dia_Semana_Viernes  \\\n",
              "0                    1.0                 0.0                 0.0   \n",
              "1                    0.0                 0.0                 0.0   \n",
              "2                    0.0                 0.0                 0.0   \n",
              "3                    0.0                 0.0                 0.0   \n",
              "4                    0.0                 0.0                 0.0   \n",
              "\n",
              "   BancoCredito_Amex  BancoCredito_Discover  BancoCredito_Mastercard  \\\n",
              "0                1.0                    0.0                      0.0   \n",
              "1                1.0                    0.0                      0.0   \n",
              "2                1.0                    0.0                      0.0   \n",
              "3                1.0                    0.0                      0.0   \n",
              "4                1.0                    0.0                      0.0   \n",
              "\n",
              "   BancoCredito_Visa  TipoTarjeta_Credit  TipoTarjeta_Debit  \\\n",
              "0                0.0                 1.0                0.0   \n",
              "1                0.0                 1.0                0.0   \n",
              "2                0.0                 1.0                0.0   \n",
              "3                0.0                 1.0                0.0   \n",
              "4                0.0                 1.0                0.0   \n",
              "\n",
              "   TipoTarjeta_Debit (Prepaid)  \n",
              "0                          0.0  \n",
              "1                          0.0  \n",
              "2                          0.0  \n",
              "3                          0.0  \n",
              "4                          0.0  \n",
              "\n",
              "[5 rows x 26 columns]"
            ]
          },
          "execution_count": 5,
          "metadata": {},
          "output_type": "execute_result"
        }
      ],
      "source": [
        "df.head(5)"
      ]
    },
    {
      "cell_type": "code",
      "execution_count": 6,
      "metadata": {
        "id": "SLSl7UQUIXTv"
      },
      "outputs": [],
      "source": [
        "from sklearn.model_selection import train_test_split\n",
        "from sklearn.metrics import classification_report, confusion_matrix\n",
        "from imblearn.over_sampling import SMOTE"
      ]
    },
    {
      "cell_type": "code",
      "execution_count": 7,
      "metadata": {
        "id": "6SfFwBW1IXWW"
      },
      "outputs": [],
      "source": [
        "# Cargar datos\n",
        "X = df.drop('Is_Fraud', axis=1)\n",
        "y = df['Is_Fraud']\n"
      ]
    },
    {
      "cell_type": "code",
      "execution_count": 8,
      "metadata": {
        "id": "ZyDwR_STIXZJ"
      },
      "outputs": [],
      "source": [
        "# Dividir los datos en conjuntos de entrenamiento y prueba\n",
        "X_train, X_test, y_train, y_test = train_test_split(X, y, test_size=0.3, random_state=42, stratify=y)"
      ]
    },
    {
      "cell_type": "code",
      "execution_count": 9,
      "metadata": {
        "id": "3YHcXCqRIXb4"
      },
      "outputs": [],
      "source": [
        "# Aplicar SMOTE para sobremuestreo de la clase minoritaria\n",
        "smote = SMOTE(random_state=42)\n",
        "X_train_sm, y_train_sm = smote.fit_resample(X_train, y_train)"
      ]
    },
    {
      "cell_type": "code",
      "execution_count": 10,
      "metadata": {
        "id": "YfFgEN_2kJXw"
      },
      "outputs": [],
      "source": [
        "from sklearn.naive_bayes import GaussianNB\n",
        "\n",
        "nb = GaussianNB(priors =[0.9 ,0.1])\n",
        "nb.fit(X_train_sm, y_train_sm)\n",
        "y_pred = nb.predict(X_test)\n"
      ]
    },
    {
      "cell_type": "code",
      "execution_count": 11,
      "metadata": {
        "id": "uGvwTAgJIXhn"
      },
      "outputs": [],
      "source": [
        "# Predecir en el conjunto de prueba\n",
        "y_pred = nb.predict(X_test)"
      ]
    },
    {
      "cell_type": "code",
      "execution_count": 12,
      "metadata": {
        "colab": {
          "base_uri": "https://localhost:8080/"
        },
        "id": "PVELnUWkPYlz",
        "outputId": "101eb43e-a396-487e-e220-772bfdd72f96"
      },
      "outputs": [
        {
          "name": "stdout",
          "output_type": "stream",
          "text": [
            "[[574699  24518]\n",
            " [   605    145]]\n",
            "              precision    recall  f1-score   support\n",
            "\n",
            "           0       1.00      0.96      0.98    599217\n",
            "           1       0.01      0.19      0.01       750\n",
            "\n",
            "    accuracy                           0.96    599967\n",
            "   macro avg       0.50      0.58      0.50    599967\n",
            "weighted avg       1.00      0.96      0.98    599967\n",
            "\n"
          ]
        }
      ],
      "source": [
        "# Evaluar el modelo\n",
        "print(confusion_matrix(y_test, y_pred))\n",
        "print(classification_report(y_test, y_pred))"
      ]
    },
    {
      "cell_type": "code",
      "execution_count": 13,
      "metadata": {
        "colab": {
          "base_uri": "https://localhost:8080/"
        },
        "id": "siIFXlWISkDw",
        "outputId": "f7f42589-c000-4b62-c118-08d516a61055"
      },
      "outputs": [
        {
          "name": "stdout",
          "output_type": "stream",
          "text": [
            "Error porcentual : 4.187397\n"
          ]
        }
      ],
      "source": [
        "# Identificando el procentual de error\n",
        "\n",
        "from sklearn.metrics import mean_squared_error\n",
        "error = mean_squared_error(y_test, y_pred)\n",
        "print(\"Error porcentual : %f\" % (error*100))"
      ]
    },
    {
      "cell_type": "code",
      "execution_count": 14,
      "metadata": {
        "id": "ZtRTe7rsPic-"
      },
      "outputs": [
        {
          "data": {
            "text/plain": [
              "(10, 26)"
            ]
          },
          "execution_count": 14,
          "metadata": {},
          "output_type": "execute_result"
        }
      ],
      "source": [
        "#poner a prueba el modelo clf\n",
        "\n",
        "RUTA = pathlib.Path(__vsc_ipynb_file__).parent.parent # type: ignore\n",
        "DatosPrueba = pd.read_csv(f\"{RUTA}/Data/DatosVerificacion.csv\", encoding='latin1', sep=',', on_bad_lines='skip')\n",
        "DatosPrueba.shape"
      ]
    },
    {
      "cell_type": "code",
      "execution_count": 15,
      "metadata": {
        "id": "nJTyoU5WQNsT"
      },
      "outputs": [],
      "source": [
        "M = DatosPrueba.drop('Is_Fraud', axis=1)\n",
        "N = DatosPrueba['Is_Fraud']\n"
      ]
    },
    {
      "cell_type": "code",
      "execution_count": 16,
      "metadata": {
        "id": "jDeROW1tSUj3"
      },
      "outputs": [],
      "source": [
        "Prediccion = nb.predict(M)"
      ]
    },
    {
      "cell_type": "code",
      "execution_count": 17,
      "metadata": {
        "colab": {
          "base_uri": "https://localhost:8080/"
        },
        "id": "DPMH-omRQLuL",
        "outputId": "7237c87c-33ec-4528-bd41-b96b2487e289"
      },
      "outputs": [
        {
          "data": {
            "text/plain": [
              "array([0, 0, 0, 0, 0, 0, 0, 0, 1, 0], dtype=int64)"
            ]
          },
          "execution_count": 17,
          "metadata": {},
          "output_type": "execute_result"
        }
      ],
      "source": [
        "Prediccion"
      ]
    }
  ],
  "metadata": {
    "accelerator": "GPU",
    "colab": {
      "authorship_tag": "ABX9TyMqI6kJZqhNOHRVssazMreH",
      "gpuType": "T4",
      "include_colab_link": true,
      "provenance": []
    },
    "kernelspec": {
      "display_name": "Python 3",
      "name": "python3"
    },
    "language_info": {
      "codemirror_mode": {
        "name": "ipython",
        "version": 3
      },
      "file_extension": ".py",
      "mimetype": "text/x-python",
      "name": "python",
      "nbconvert_exporter": "python",
      "pygments_lexer": "ipython3",
      "version": "3.10.1"
    }
  },
  "nbformat": 4,
  "nbformat_minor": 0
}
