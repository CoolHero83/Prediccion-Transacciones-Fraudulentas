{
  "cells": [
    {
      "cell_type": "markdown",
      "metadata": {
        "colab_type": "text",
        "id": "view-in-github"
      },
      "source": [
        "<a href=\"https://colab.research.google.com/github/CoolHero83/Prediccion-Transacciones-Fraudulentas/blob/main/ModeloRandomForest.ipynb\" target=\"_parent\"><img src=\"https://colab.research.google.com/assets/colab-badge.svg\" alt=\"Open In Colab\"/></a>"
      ]
    },
    {
      "cell_type": "code",
      "execution_count": 10,
      "metadata": {
        "colab": {
          "base_uri": "https://localhost:8080/"
        },
        "id": "0D4yaZgmDNvt",
        "outputId": "09f82091-0318-4ec5-b63c-34526345a13d"
      },
      "outputs": [
        {
          "data": {
            "text/plain": [
              "(1999889, 26)"
            ]
          },
          "execution_count": 10,
          "metadata": {},
          "output_type": "execute_result"
        }
      ],
      "source": [
        "# prompt: leer el archi csv\n",
        "\n",
        "\n",
        "import pandas as pd\n",
        "import pathlib\n",
        "\n",
        "RUTA = pathlib.Path(__vsc_ipynb_file__).parent.parent # type: ignore\n",
        "\n",
        "df = pd.read_csv(f\"{RUTA}/Data/Data2.csv\", encoding='latin1', sep=',', on_bad_lines='skip')\n",
        "df.shape"
      ]
    },
    {
      "cell_type": "code",
      "execution_count": 11,
      "metadata": {
        "colab": {
          "base_uri": "https://localhost:8080/",
          "height": 273
        },
        "id": "JQVtVRL5C0rf",
        "outputId": "70935332-de5d-4d4f-8ede-faa6720a894e"
      },
      "outputs": [
        {
          "data": {
            "text/html": [
              "<div>\n",
              "<style scoped>\n",
              "    .dataframe tbody tr th:only-of-type {\n",
              "        vertical-align: middle;\n",
              "    }\n",
              "\n",
              "    .dataframe tbody tr th {\n",
              "        vertical-align: top;\n",
              "    }\n",
              "\n",
              "    .dataframe thead th {\n",
              "        text-align: right;\n",
              "    }\n",
              "</style>\n",
              "<table border=\"1\" class=\"dataframe\">\n",
              "  <thead>\n",
              "    <tr style=\"text-align: right;\">\n",
              "      <th></th>\n",
              "      <th>Amount</th>\n",
              "      <th>Is_Fraud</th>\n",
              "      <th>IngresoAnual</th>\n",
              "      <th>DebitoTotal</th>\n",
              "      <th>FICO_Score</th>\n",
              "      <th>Year</th>\n",
              "      <th>Month</th>\n",
              "      <th>Time</th>\n",
              "      <th>LimiteCredito</th>\n",
              "      <th>Errors_Insufficient Balance</th>\n",
              "      <th>...</th>\n",
              "      <th>Dia_Semana_MiÃ©rcoles</th>\n",
              "      <th>Dia_Semana_SÃ¡bado</th>\n",
              "      <th>Dia_Semana_Viernes</th>\n",
              "      <th>BancoCredito_Amex</th>\n",
              "      <th>BancoCredito_Discover</th>\n",
              "      <th>BancoCredito_Mastercard</th>\n",
              "      <th>BancoCredito_Visa</th>\n",
              "      <th>TipoTarjeta_Credit</th>\n",
              "      <th>TipoTarjeta_Debit</th>\n",
              "      <th>TipoTarjeta_Debit (Prepaid)</th>\n",
              "    </tr>\n",
              "  </thead>\n",
              "  <tbody>\n",
              "    <tr>\n",
              "      <th>0</th>\n",
              "      <td>0.870166</td>\n",
              "      <td>0</td>\n",
              "      <td>1.058518</td>\n",
              "      <td>-0.269604</td>\n",
              "      <td>0.217595</td>\n",
              "      <td>-4.105101</td>\n",
              "      <td>-1.592169</td>\n",
              "      <td>0.905811</td>\n",
              "      <td>1.531309</td>\n",
              "      <td>0.0</td>\n",
              "      <td>...</td>\n",
              "      <td>1.0</td>\n",
              "      <td>0.0</td>\n",
              "      <td>0.0</td>\n",
              "      <td>1.0</td>\n",
              "      <td>0.0</td>\n",
              "      <td>0.0</td>\n",
              "      <td>0.0</td>\n",
              "      <td>1.0</td>\n",
              "      <td>0.0</td>\n",
              "      <td>0.0</td>\n",
              "    </tr>\n",
              "    <tr>\n",
              "      <th>1</th>\n",
              "      <td>-1.744696</td>\n",
              "      <td>0</td>\n",
              "      <td>1.058518</td>\n",
              "      <td>-0.269604</td>\n",
              "      <td>0.217595</td>\n",
              "      <td>-4.105101</td>\n",
              "      <td>-1.592169</td>\n",
              "      <td>-1.230862</td>\n",
              "      <td>1.531309</td>\n",
              "      <td>0.0</td>\n",
              "      <td>...</td>\n",
              "      <td>0.0</td>\n",
              "      <td>0.0</td>\n",
              "      <td>0.0</td>\n",
              "      <td>1.0</td>\n",
              "      <td>0.0</td>\n",
              "      <td>0.0</td>\n",
              "      <td>0.0</td>\n",
              "      <td>1.0</td>\n",
              "      <td>0.0</td>\n",
              "      <td>0.0</td>\n",
              "    </tr>\n",
              "    <tr>\n",
              "      <th>2</th>\n",
              "      <td>1.060533</td>\n",
              "      <td>0</td>\n",
              "      <td>1.058518</td>\n",
              "      <td>-0.269604</td>\n",
              "      <td>0.217595</td>\n",
              "      <td>-4.105101</td>\n",
              "      <td>-1.592169</td>\n",
              "      <td>-0.445224</td>\n",
              "      <td>1.531309</td>\n",
              "      <td>0.0</td>\n",
              "      <td>...</td>\n",
              "      <td>0.0</td>\n",
              "      <td>0.0</td>\n",
              "      <td>0.0</td>\n",
              "      <td>1.0</td>\n",
              "      <td>0.0</td>\n",
              "      <td>0.0</td>\n",
              "      <td>0.0</td>\n",
              "      <td>1.0</td>\n",
              "      <td>0.0</td>\n",
              "      <td>0.0</td>\n",
              "    </tr>\n",
              "    <tr>\n",
              "      <th>3</th>\n",
              "      <td>0.139404</td>\n",
              "      <td>0</td>\n",
              "      <td>1.058518</td>\n",
              "      <td>-0.269604</td>\n",
              "      <td>0.217595</td>\n",
              "      <td>-4.105101</td>\n",
              "      <td>-1.304044</td>\n",
              "      <td>-1.142108</td>\n",
              "      <td>1.531309</td>\n",
              "      <td>0.0</td>\n",
              "      <td>...</td>\n",
              "      <td>0.0</td>\n",
              "      <td>0.0</td>\n",
              "      <td>0.0</td>\n",
              "      <td>1.0</td>\n",
              "      <td>0.0</td>\n",
              "      <td>0.0</td>\n",
              "      <td>0.0</td>\n",
              "      <td>1.0</td>\n",
              "      <td>0.0</td>\n",
              "      <td>0.0</td>\n",
              "    </tr>\n",
              "    <tr>\n",
              "      <th>4</th>\n",
              "      <td>-0.390713</td>\n",
              "      <td>0</td>\n",
              "      <td>1.058518</td>\n",
              "      <td>-0.269604</td>\n",
              "      <td>0.217595</td>\n",
              "      <td>-4.105101</td>\n",
              "      <td>-1.304044</td>\n",
              "      <td>-0.326885</td>\n",
              "      <td>1.531309</td>\n",
              "      <td>0.0</td>\n",
              "      <td>...</td>\n",
              "      <td>0.0</td>\n",
              "      <td>0.0</td>\n",
              "      <td>0.0</td>\n",
              "      <td>1.0</td>\n",
              "      <td>0.0</td>\n",
              "      <td>0.0</td>\n",
              "      <td>0.0</td>\n",
              "      <td>1.0</td>\n",
              "      <td>0.0</td>\n",
              "      <td>0.0</td>\n",
              "    </tr>\n",
              "  </tbody>\n",
              "</table>\n",
              "<p>5 rows × 26 columns</p>\n",
              "</div>"
            ],
            "text/plain": [
              "     Amount  Is_Fraud  IngresoAnual  DebitoTotal  FICO_Score      Year  \\\n",
              "0  0.870166         0      1.058518    -0.269604    0.217595 -4.105101   \n",
              "1 -1.744696         0      1.058518    -0.269604    0.217595 -4.105101   \n",
              "2  1.060533         0      1.058518    -0.269604    0.217595 -4.105101   \n",
              "3  0.139404         0      1.058518    -0.269604    0.217595 -4.105101   \n",
              "4 -0.390713         0      1.058518    -0.269604    0.217595 -4.105101   \n",
              "\n",
              "      Month      Time  LimiteCredito  Errors_Insufficient Balance  ...  \\\n",
              "0 -1.592169  0.905811       1.531309                          0.0  ...   \n",
              "1 -1.592169 -1.230862       1.531309                          0.0  ...   \n",
              "2 -1.592169 -0.445224       1.531309                          0.0  ...   \n",
              "3 -1.304044 -1.142108       1.531309                          0.0  ...   \n",
              "4 -1.304044 -0.326885       1.531309                          0.0  ...   \n",
              "\n",
              "   Dia_Semana_MiÃ©rcoles  Dia_Semana_SÃ¡bado  Dia_Semana_Viernes  \\\n",
              "0                    1.0                 0.0                 0.0   \n",
              "1                    0.0                 0.0                 0.0   \n",
              "2                    0.0                 0.0                 0.0   \n",
              "3                    0.0                 0.0                 0.0   \n",
              "4                    0.0                 0.0                 0.0   \n",
              "\n",
              "   BancoCredito_Amex  BancoCredito_Discover  BancoCredito_Mastercard  \\\n",
              "0                1.0                    0.0                      0.0   \n",
              "1                1.0                    0.0                      0.0   \n",
              "2                1.0                    0.0                      0.0   \n",
              "3                1.0                    0.0                      0.0   \n",
              "4                1.0                    0.0                      0.0   \n",
              "\n",
              "   BancoCredito_Visa  TipoTarjeta_Credit  TipoTarjeta_Debit  \\\n",
              "0                0.0                 1.0                0.0   \n",
              "1                0.0                 1.0                0.0   \n",
              "2                0.0                 1.0                0.0   \n",
              "3                0.0                 1.0                0.0   \n",
              "4                0.0                 1.0                0.0   \n",
              "\n",
              "   TipoTarjeta_Debit (Prepaid)  \n",
              "0                          0.0  \n",
              "1                          0.0  \n",
              "2                          0.0  \n",
              "3                          0.0  \n",
              "4                          0.0  \n",
              "\n",
              "[5 rows x 26 columns]"
            ]
          },
          "execution_count": 11,
          "metadata": {},
          "output_type": "execute_result"
        }
      ],
      "source": [
        "df.head(5)"
      ]
    },
    {
      "cell_type": "code",
      "execution_count": 12,
      "metadata": {
        "id": "SLSl7UQUIXTv"
      },
      "outputs": [],
      "source": [
        "from sklearn.model_selection import train_test_split\n",
        "from sklearn.ensemble import RandomForestClassifier\n",
        "from sklearn.metrics import classification_report, confusion_matrix\n",
        "from imblearn.over_sampling import SMOTE"
      ]
    },
    {
      "cell_type": "code",
      "execution_count": 13,
      "metadata": {
        "id": "6SfFwBW1IXWW"
      },
      "outputs": [],
      "source": [
        "# Cargar datos\n",
        "X = df.drop('Is_Fraud', axis=1)\n",
        "y = df['Is_Fraud']\n"
      ]
    },
    {
      "cell_type": "code",
      "execution_count": 14,
      "metadata": {
        "id": "ZyDwR_STIXZJ"
      },
      "outputs": [],
      "source": [
        "# Dividir los datos en conjuntos de entrenamiento y prueba\n",
        "X_train, X_test, y_train, y_test = train_test_split(X, y, test_size=0.3, random_state=42, stratify=y)"
      ]
    },
    {
      "cell_type": "code",
      "execution_count": 15,
      "metadata": {
        "id": "3YHcXCqRIXb4"
      },
      "outputs": [],
      "source": [
        "# Aplicar SMOTE para sobremuestreo de la clase minoritaria\n",
        "smote = SMOTE(random_state=42)\n",
        "X_train_sm, y_train_sm = smote.fit_resample(X_train, y_train)"
      ]
    },
    {
      "cell_type": "code",
      "execution_count": 16,
      "metadata": {
        "colab": {
          "base_uri": "https://localhost:8080/",
          "height": 74
        },
        "id": "lHbBIxiUIXee",
        "outputId": "42d5d5b6-b5cd-4146-fafa-5f00ed1ae772"
      },
      "outputs": [
        {
          "data": {
            "text/html": [
              "<style>#sk-container-id-1 {color: black;background-color: white;}#sk-container-id-1 pre{padding: 0;}#sk-container-id-1 div.sk-toggleable {background-color: white;}#sk-container-id-1 label.sk-toggleable__label {cursor: pointer;display: block;width: 100%;margin-bottom: 0;padding: 0.3em;box-sizing: border-box;text-align: center;}#sk-container-id-1 label.sk-toggleable__label-arrow:before {content: \"▸\";float: left;margin-right: 0.25em;color: #696969;}#sk-container-id-1 label.sk-toggleable__label-arrow:hover:before {color: black;}#sk-container-id-1 div.sk-estimator:hover label.sk-toggleable__label-arrow:before {color: black;}#sk-container-id-1 div.sk-toggleable__content {max-height: 0;max-width: 0;overflow: hidden;text-align: left;background-color: #f0f8ff;}#sk-container-id-1 div.sk-toggleable__content pre {margin: 0.2em;color: black;border-radius: 0.25em;background-color: #f0f8ff;}#sk-container-id-1 input.sk-toggleable__control:checked~div.sk-toggleable__content {max-height: 200px;max-width: 100%;overflow: auto;}#sk-container-id-1 input.sk-toggleable__control:checked~label.sk-toggleable__label-arrow:before {content: \"▾\";}#sk-container-id-1 div.sk-estimator input.sk-toggleable__control:checked~label.sk-toggleable__label {background-color: #d4ebff;}#sk-container-id-1 div.sk-label input.sk-toggleable__control:checked~label.sk-toggleable__label {background-color: #d4ebff;}#sk-container-id-1 input.sk-hidden--visually {border: 0;clip: rect(1px 1px 1px 1px);clip: rect(1px, 1px, 1px, 1px);height: 1px;margin: -1px;overflow: hidden;padding: 0;position: absolute;width: 1px;}#sk-container-id-1 div.sk-estimator {font-family: monospace;background-color: #f0f8ff;border: 1px dotted black;border-radius: 0.25em;box-sizing: border-box;margin-bottom: 0.5em;}#sk-container-id-1 div.sk-estimator:hover {background-color: #d4ebff;}#sk-container-id-1 div.sk-parallel-item::after {content: \"\";width: 100%;border-bottom: 1px solid gray;flex-grow: 1;}#sk-container-id-1 div.sk-label:hover label.sk-toggleable__label {background-color: #d4ebff;}#sk-container-id-1 div.sk-serial::before {content: \"\";position: absolute;border-left: 1px solid gray;box-sizing: border-box;top: 0;bottom: 0;left: 50%;z-index: 0;}#sk-container-id-1 div.sk-serial {display: flex;flex-direction: column;align-items: center;background-color: white;padding-right: 0.2em;padding-left: 0.2em;position: relative;}#sk-container-id-1 div.sk-item {position: relative;z-index: 1;}#sk-container-id-1 div.sk-parallel {display: flex;align-items: stretch;justify-content: center;background-color: white;position: relative;}#sk-container-id-1 div.sk-item::before, #sk-container-id-1 div.sk-parallel-item::before {content: \"\";position: absolute;border-left: 1px solid gray;box-sizing: border-box;top: 0;bottom: 0;left: 50%;z-index: -1;}#sk-container-id-1 div.sk-parallel-item {display: flex;flex-direction: column;z-index: 1;position: relative;background-color: white;}#sk-container-id-1 div.sk-parallel-item:first-child::after {align-self: flex-end;width: 50%;}#sk-container-id-1 div.sk-parallel-item:last-child::after {align-self: flex-start;width: 50%;}#sk-container-id-1 div.sk-parallel-item:only-child::after {width: 0;}#sk-container-id-1 div.sk-dashed-wrapped {border: 1px dashed gray;margin: 0 0.4em 0.5em 0.4em;box-sizing: border-box;padding-bottom: 0.4em;background-color: white;}#sk-container-id-1 div.sk-label label {font-family: monospace;font-weight: bold;display: inline-block;line-height: 1.2em;}#sk-container-id-1 div.sk-label-container {text-align: center;}#sk-container-id-1 div.sk-container {/* jupyter's `normalize.less` sets `[hidden] { display: none; }` but bootstrap.min.css set `[hidden] { display: none !important; }` so we also need the `!important` here to be able to override the default hidden behavior on the sphinx rendered scikit-learn.org. See: https://github.com/scikit-learn/scikit-learn/issues/21755 */display: inline-block !important;position: relative;}#sk-container-id-1 div.sk-text-repr-fallback {display: none;}</style><div id=\"sk-container-id-1\" class=\"sk-top-container\"><div class=\"sk-text-repr-fallback\"><pre>RandomForestClassifier(class_weight=&#x27;balanced&#x27;, random_state=42)</pre><b>In a Jupyter environment, please rerun this cell to show the HTML representation or trust the notebook. <br />On GitHub, the HTML representation is unable to render, please try loading this page with nbviewer.org.</b></div><div class=\"sk-container\" hidden><div class=\"sk-item\"><div class=\"sk-estimator sk-toggleable\"><input class=\"sk-toggleable__control sk-hidden--visually\" id=\"sk-estimator-id-1\" type=\"checkbox\" checked><label for=\"sk-estimator-id-1\" class=\"sk-toggleable__label sk-toggleable__label-arrow\">RandomForestClassifier</label><div class=\"sk-toggleable__content\"><pre>RandomForestClassifier(class_weight=&#x27;balanced&#x27;, random_state=42)</pre></div></div></div></div></div>"
            ],
            "text/plain": [
              "RandomForestClassifier(class_weight='balanced', random_state=42)"
            ]
          },
          "execution_count": 16,
          "metadata": {},
          "output_type": "execute_result"
        }
      ],
      "source": [
        "# Entrenar un modelo de Random Forest\n",
        "RdForest = RandomForestClassifier(n_estimators=100, random_state=42, class_weight='balanced')\n",
        "RdForest.fit(X_train_sm, y_train_sm)"
      ]
    },
    {
      "cell_type": "code",
      "execution_count": 17,
      "metadata": {
        "id": "uGvwTAgJIXhn"
      },
      "outputs": [],
      "source": [
        "# Predecir en el conjunto de prueba\n",
        "y_pred = RdForest.predict(X_test)"
      ]
    },
    {
      "cell_type": "code",
      "execution_count": 18,
      "metadata": {
        "colab": {
          "base_uri": "https://localhost:8080/"
        },
        "id": "PVELnUWkPYlz",
        "outputId": "e4b58ea1-1c31-4b9d-c0e3-e81f3253edf7"
      },
      "outputs": [
        {
          "name": "stdout",
          "output_type": "stream",
          "text": [
            "[[599162     55]\n",
            " [   734     16]]\n",
            "              precision    recall  f1-score   support\n",
            "\n",
            "           0       1.00      1.00      1.00    599217\n",
            "           1       0.23      0.02      0.04       750\n",
            "\n",
            "    accuracy                           1.00    599967\n",
            "   macro avg       0.61      0.51      0.52    599967\n",
            "weighted avg       1.00      1.00      1.00    599967\n",
            "\n"
          ]
        }
      ],
      "source": [
        "# Evaluar el modelo\n",
        "print(confusion_matrix(y_test, y_pred))\n",
        "print(classification_report(y_test, y_pred))"
      ]
    },
    {
      "cell_type": "code",
      "execution_count": 19,
      "metadata": {
        "colab": {
          "base_uri": "https://localhost:8080/"
        },
        "id": "siIFXlWISkDw",
        "outputId": "0aadaab2-178e-4121-9389-5f80e391bb43"
      },
      "outputs": [
        {
          "name": "stdout",
          "output_type": "stream",
          "text": [
            "Error porcentual : 0.131507\n",
            "Exactitud: 0.9986849276710219\n"
          ]
        }
      ],
      "source": [
        "# Identificando el procentual de error\n",
        "from sklearn import metrics\n",
        "from sklearn.metrics import mean_squared_error\n",
        "\n",
        "error = mean_squared_error(y_test, y_pred)\n",
        "print(\"Error porcentual : %f\" % (error*100))\n",
        "print(\"Exactitud:\",metrics.accuracy_score(y_test, y_pred))"
      ]
    },
    {
      "cell_type": "code",
      "execution_count": 26,
      "metadata": {
        "id": "ZtRTe7rsPic-"
      },
      "outputs": [
        {
          "data": {
            "text/plain": [
              "(10, 26)"
            ]
          },
          "execution_count": 26,
          "metadata": {},
          "output_type": "execute_result"
        }
      ],
      "source": [
        "#poner a prueba el modelo clf\n",
        "\n",
        "RUTA = pathlib.Path(__vsc_ipynb_file__).parent.parent # type: ignore\n",
        "DatosPrueba = pd.read_csv(f\"{RUTA}/Data/DatosVerificacion.csv\", encoding='latin1', sep=',', on_bad_lines='skip')\n",
        "DatosPrueba.shape"
      ]
    },
    {
      "cell_type": "code",
      "execution_count": 27,
      "metadata": {
        "id": "nJTyoU5WQNsT"
      },
      "outputs": [],
      "source": [
        "XPrueba = DatosPrueba.drop('Is_Fraud', axis=1)\n",
        "yPrueba = DatosPrueba['Is_Fraud']\n"
      ]
    },
    {
      "cell_type": "code",
      "execution_count": 28,
      "metadata": {
        "id": "jDeROW1tSUj3"
      },
      "outputs": [],
      "source": [
        "#El conjunto de datos para prueba tiene 10 transacciones, 5 fraudulentas y 5 que no lo son, DatosPrueba =[1,1,1,1,1,0,0,0,0,,0]\n",
        "\n",
        "Prediccion = RdForest.predict(XPrueba)"
      ]
    },
    {
      "cell_type": "code",
      "execution_count": 29,
      "metadata": {
        "colab": {
          "base_uri": "https://localhost:8080/"
        },
        "id": "DPMH-omRQLuL",
        "outputId": "40212791-1513-4c34-b107-f75a612e85c7"
      },
      "outputs": [
        {
          "data": {
            "text/plain": [
              "array([0, 0, 0, 0, 0, 0, 0, 0, 0, 0], dtype=int64)"
            ]
          },
          "execution_count": 29,
          "metadata": {},
          "output_type": "execute_result"
        }
      ],
      "source": [
        "Prediccion"
      ]
    }
  ],
  "metadata": {
    "colab": {
      "authorship_tag": "ABX9TyP9ya5ZFB222dfmSSs4ufdU",
      "include_colab_link": true,
      "mount_file_id": "17arJxV9NPriZOsY_QwOPEn3w8eC3adOe",
      "provenance": []
    },
    "kernelspec": {
      "display_name": "Python 3",
      "name": "python3"
    },
    "language_info": {
      "codemirror_mode": {
        "name": "ipython",
        "version": 3
      },
      "file_extension": ".py",
      "mimetype": "text/x-python",
      "name": "python",
      "nbconvert_exporter": "python",
      "pygments_lexer": "ipython3",
      "version": "3.10.1"
    }
  },
  "nbformat": 4,
  "nbformat_minor": 0
}
